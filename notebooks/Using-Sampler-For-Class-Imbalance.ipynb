{
 "cells": [
  {
   "cell_type": "markdown",
   "metadata": {},
   "source": [
    "# Using Sampler To Combat Class Imbalance"
   ]
  },
  {
   "cell_type": "markdown",
   "metadata": {},
   "source": [
    "## Quick Answer"
   ]
  },
  {
   "cell_type": "markdown",
   "metadata": {},
   "source": [
    "If you want equal split checkout the amazing repository https://github.com/ncullen93/torchsample by @ncullen93. Specifically the StratifiedSampler https://github.com/ncullen93/torchsample/blob/master/torchsample/samplers.py#L22. I got this link from the discussion here  https://discuss.pytorch.org/t/how-to-enable-the-dataloader-to-sample-from-each-class-with-equal-probability/911 "
   ]
  },
  {
   "cell_type": "markdown",
   "metadata": {},
   "source": [
    "## What is Class Imbalance ?"
   ]
  },
  {
   "cell_type": "markdown",
   "metadata": {},
   "source": [
    "Class imbalance is a common problem occuring in machine learning. It arises because often the data is very skewed, we have lots of data of one class and very little data of another class. For example, suppose there is a small object in every image and the task is to find the small object. A starting point would be to divide the image into small patches, for every patch see if the object is present or not. Let the two classes be foreground class and background class. So while training, when you divide the image into patches, the number of patches which correspond to the small object could be an order of magnitude smaller than the background class."
   ]
  },
  {
   "cell_type": "markdown",
   "metadata": {},
   "source": [
    "## Why Class Imbalance is a problem?"
   ]
  },
  {
   "cell_type": "markdown",
   "metadata": {},
   "source": [
    "Given that we have a class imbalance, why should it be a problem. For first, we note that the neural network tries to optimize the loss function. So what happens when you use simple cross entropy loss? In any given batch (say batch of 10), the number of background classes are 9 and number of foreground class is 1. Thus if the network predicts all images as background class it gets a small loss and this might correspond to a local minima and the network might find it difficult to come out of it."
   ]
  },
  {
   "cell_type": "markdown",
   "metadata": {},
   "source": [
    "## How to combat Class Imbalance?"
   ]
  },
  {
   "cell_type": "markdown",
   "metadata": {},
   "source": [
    "There are three easy ways. \n",
    "\n",
    "1. Undersample the background class. This is the easiest of all, simply throw away a large number of background class. \n",
    "2. Use class weights. In pytorch you can pass parameter called weights into the cross entropy function in inverse proportion of the distribution. This will penalize the network more if they get the foreground class incorrect.\n",
    "3. Use a Sampler, which will pick sample from every class equally (or at a fixed ratio). This is the method this notebook focuses on."
   ]
  },
  {
   "cell_type": "markdown",
   "metadata": {},
   "source": [
    "## Understanding a few mechanics of Sampler"
   ]
  },
  {
   "cell_type": "markdown",
   "metadata": {},
   "source": [
    "As usual we start with dogs and cats dataset"
   ]
  },
  {
   "cell_type": "code",
   "execution_count": 1,
   "metadata": {},
   "outputs": [],
   "source": [
    "import matplotlib\n",
    "matplotlib.use('Agg')"
   ]
  },
  {
   "cell_type": "code",
   "execution_count": 2,
   "metadata": {},
   "outputs": [],
   "source": [
    "%reload_ext autoreload\n",
    "%autoreload 2\n",
    "%matplotlib inline"
   ]
  },
  {
   "cell_type": "code",
   "execution_count": 3,
   "metadata": {},
   "outputs": [],
   "source": [
    "from fastai.imports import *\n",
    "from fastai.transforms import *\n",
    "from fastai.conv_learner import *\n",
    "from fastai.model import *\n",
    "from fastai.dataset import *\n",
    "from fastai.sgdr import *\n",
    "from fastai.plots import *"
   ]
  },
  {
   "cell_type": "code",
   "execution_count": 5,
   "metadata": {},
   "outputs": [],
   "source": [
    "PATH = \"../data/dogscats/\"\n",
    "sz=224"
   ]
  },
  {
   "cell_type": "code",
   "execution_count": 9,
   "metadata": {},
   "outputs": [],
   "source": [
    "arch=resnet34\n",
    "data = ImageClassifierData.from_paths(PATH, tfms=tfms_from_model(arch, sz), bs=16)"
   ]
  },
  {
   "cell_type": "code",
   "execution_count": null,
   "metadata": {},
   "outputs": [],
   "source": [
    "??torch.multinomial"
   ]
  },
  {
   "cell_type": "markdown",
   "metadata": {},
   "source": [
    "Before moving into mechanics, lets see what is present in the weightedradomsampler (note this is the same as https://github.com/pytorch/pytorch/blob/master/torch/utils/data/sampler.py#L74)"
   ]
  },
  {
   "cell_type": "markdown",
   "metadata": {},
   "source": [
    "The important thing to note here is that the `weights` do not correspond to the `class_weights` rather it is the weight for each index in the dataset."
   ]
  },
  {
   "cell_type": "code",
   "execution_count": 6,
   "metadata": {},
   "outputs": [],
   "source": [
    "class WeightedRandomSampler(object):\n",
    "    r\"\"\"Samples elements from [0,..,len(weights)-1] with given probabilities (weights).\n",
    "\n",
    "    Arguments:\n",
    "        weights (list)   : a list of weights, not necessary summing up to one\n",
    "        num_samples (int): number of samples to draw\n",
    "        replacement (bool): if ``True``, samples are drawn with replacement.\n",
    "            If not, they are drawn without replacement, which means that when a\n",
    "            sample index is drawn for a row, it cannot be drawn again for that row.\n",
    "    \"\"\"\n",
    "\n",
    "    def __init__(self, weights, num_samples, replacement=False):\n",
    "        self.weights = T(weights)\n",
    "        self.num_samples = num_samples\n",
    "        self.replacement = replacement\n",
    "\n",
    "    def __iter__(self):\n",
    "        return iter(torch.multinomial(self.weights, self.num_samples, self.replacement))\n",
    "\n",
    "    def __len__(self):\n",
    "        return self.num_samples"
   ]
  },
  {
   "cell_type": "markdown",
   "metadata": {},
   "source": [
    "A few convenience functions to be used later. `check_ws` simply gets distribution given the weighted sampler `ws` adn the dataset `ds`. `check_sampler` similarly does the same with only the dataloader `dl`"
   ]
  },
  {
   "cell_type": "code",
   "execution_count": 13,
   "metadata": {},
   "outputs": [],
   "source": [
    "def check_ws(ws, ds):\n",
    "    n0 = 0\n",
    "    n1 = 0\n",
    "    tot = 0\n",
    "\n",
    "    for w in tqdm(ws):\n",
    "        d = ds[w]\n",
    "        d1 = d[1]\n",
    "        if d1 == 0:\n",
    "            n0 += 1\n",
    "        elif d1 == 1:\n",
    "            n1 += 1\n",
    "        tot += 1\n",
    "    assert tot == n0 + n1\n",
    "    print(n0/tot)\n",
    "    print(n1/tot)"
   ]
  },
  {
   "cell_type": "code",
   "execution_count": 11,
   "metadata": {},
   "outputs": [],
   "source": [
    "def check_sampler(dl):\n",
    "    c0 = 0\n",
    "    c1 = 0\n",
    "    tot = 0\n",
    "    for x, y in tqdm(dl):\n",
    "        ys = y.shape[0]\n",
    "        num1 = torch.sum(y)\n",
    "        c0 += ys - num1\n",
    "        c1 += num1\n",
    "        tot += ys\n",
    "    assert tot == c0 + c1\n",
    "    print(c0 / tot)\n",
    "    print(c1 / tot)"
   ]
  },
  {
   "cell_type": "code",
   "execution_count": 12,
   "metadata": {},
   "outputs": [
    {
     "name": "stdout",
     "output_type": "stream",
     "text": [
      "100%|██████████| 1438/1438 [00:19<00:00, 73.21it/s]\n",
      "0.5\n",
      "0.5\n"
     ]
    }
   ],
   "source": [
    "check_sampler(data.trn_dl)"
   ]
  },
  {
   "cell_type": "markdown",
   "metadata": {},
   "source": [
    "As expected the number of cats and dogs are the same."
   ]
  },
  {
   "cell_type": "code",
   "execution_count": 14,
   "metadata": {},
   "outputs": [],
   "source": [
    "ds = data.trn_dl.dataset"
   ]
  },
  {
   "cell_type": "code",
   "execution_count": 15,
   "metadata": {},
   "outputs": [
    {
     "data": {
      "text/plain": [
       "23000"
      ]
     },
     "execution_count": 15,
     "metadata": {},
     "output_type": "execute_result"
    }
   ],
   "source": [
    "len(ds)"
   ]
  },
  {
   "cell_type": "markdown",
   "metadata": {},
   "source": [
    "We will now assign weights to each index"
   ]
  },
  {
   "cell_type": "code",
   "execution_count": 16,
   "metadata": {},
   "outputs": [
    {
     "name": "stdout",
     "output_type": "stream",
     "text": [
      "100%|██████████| 23000/23000 [01:19<00:00, 287.83it/s]\n"
     ]
    }
   ],
   "source": [
    "wl2i = []\n",
    "\n",
    "l2p = [0.25, 0.75]\n",
    "\n",
    "for ind, d in enumerate(tqdm(ds)):\n",
    "    wl2i.append(l2p[d[1]])"
   ]
  },
  {
   "cell_type": "markdown",
   "metadata": {},
   "source": [
    "Now we will make a weighted sampler with this list. `replacement` can be set to both `True` and `False` with the former incurring repitions of the undersampled class. The later is also a bit slower."
   ]
  },
  {
   "cell_type": "code",
   "execution_count": 17,
   "metadata": {},
   "outputs": [],
   "source": [
    "ws2 = WeightedRandomSampler(wl2i, len(ds)//2, replacement=True)"
   ]
  },
  {
   "cell_type": "code",
   "execution_count": 18,
   "metadata": {},
   "outputs": [
    {
     "name": "stdout",
     "output_type": "stream",
     "text": [
      "100%|██████████| 11500/11500 [00:39<00:00, 288.25it/s]\n",
      "0.2543478260869565\n",
      "0.7456521739130435\n"
     ]
    }
   ],
   "source": [
    "check_ws(ws2, ds)"
   ]
  },
  {
   "cell_type": "markdown",
   "metadata": {},
   "source": [
    "More or less the exact distribution as expected."
   ]
  },
  {
   "cell_type": "code",
   "execution_count": 19,
   "metadata": {},
   "outputs": [],
   "source": [
    "ws3 = WeightedRandomSampler(wl2i, len(ds)//2, replacement=False)"
   ]
  },
  {
   "cell_type": "code",
   "execution_count": 20,
   "metadata": {},
   "outputs": [
    {
     "name": "stdout",
     "output_type": "stream",
     "text": [
      "100%|██████████| 11500/11500 [00:48<00:00, 234.70it/s]\n",
      "0.3183478260869565\n",
      "0.6816521739130434\n"
     ]
    }
   ],
   "source": [
    "check_ws(ws3, ds)"
   ]
  },
  {
   "cell_type": "markdown",
   "metadata": {},
   "source": [
    "Slightly skewed distribution because of `replacement=False`"
   ]
  },
  {
   "cell_type": "markdown",
   "metadata": {},
   "source": [
    "We can confirm the same with dataloader as well"
   ]
  },
  {
   "cell_type": "code",
   "execution_count": 21,
   "metadata": {},
   "outputs": [],
   "source": [
    "new_dl = DataLoader(ds, batch_size=16, \n",
    "                    sampler=WeightedRandomSampler(wl2i, len(ds)//2, replacement=True),\n",
    "                    num_workers=4)"
   ]
  },
  {
   "cell_type": "code",
   "execution_count": 22,
   "metadata": {},
   "outputs": [
    {
     "name": "stdout",
     "output_type": "stream",
     "text": [
      "100%|██████████| 719/719 [00:15<00:00, 47.65it/s]\n",
      "0.24956521739130436\n",
      "0.7504347826086957\n"
     ]
    }
   ],
   "source": [
    "check_sampler(new_dl)"
   ]
  },
  {
   "cell_type": "code",
   "execution_count": 23,
   "metadata": {},
   "outputs": [],
   "source": [
    "new_dl_no_replacement = DataLoader(ds, batch_size=16, \n",
    "                        sampler=WeightedRandomSampler(wl2i, len(ds)//2, replacement=False),\n",
    "                        num_workers=4)"
   ]
  },
  {
   "cell_type": "code",
   "execution_count": 24,
   "metadata": {},
   "outputs": [
    {
     "name": "stdout",
     "output_type": "stream",
     "text": [
      "100%|██████████| 719/719 [00:24<00:00, 29.29it/s]\n",
      "0.31965217391304346\n",
      "0.6803478260869565\n"
     ]
    }
   ],
   "source": [
    "check_sampler(new_dl_no_replacement)"
   ]
  }
 ],
 "metadata": {
  "kernelspec": {
   "display_name": "Python 3",
   "language": "python",
   "name": "python3"
  },
  "language_info": {
   "codemirror_mode": {
    "name": "ipython",
    "version": 3
   },
   "file_extension": ".py",
   "mimetype": "text/x-python",
   "name": "python",
   "nbconvert_exporter": "python",
   "pygments_lexer": "ipython3",
   "version": "3.6.5"
  }
 },
 "nbformat": 4,
 "nbformat_minor": 2
}
