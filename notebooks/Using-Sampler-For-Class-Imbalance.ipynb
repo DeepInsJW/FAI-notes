{
 "cells": [
  {
   "cell_type": "code",
   "execution_count": 1,
   "metadata": {},
   "outputs": [],
   "source": [
    "import matplotlib\n",
    "matplotlib.use('Agg')"
   ]
  },
  {
   "cell_type": "code",
   "execution_count": 2,
   "metadata": {},
   "outputs": [],
   "source": [
    "%reload_ext autoreload\n",
    "%autoreload 2\n",
    "%matplotlib inline"
   ]
  },
  {
   "cell_type": "code",
   "execution_count": 3,
   "metadata": {},
   "outputs": [],
   "source": [
    "from fastai.imports import *\n",
    "from fastai.transforms import *\n",
    "from fastai.conv_learner import *\n",
    "from fastai.model import *\n",
    "from fastai.dataset import *\n",
    "from fastai.sgdr import *\n",
    "from fastai.plots import *"
   ]
  },
  {
   "cell_type": "code",
   "execution_count": 4,
   "metadata": {},
   "outputs": [],
   "source": [
    "PATH = \"../data/dogscats/\"\n",
    "sz=224"
   ]
  },
  {
   "cell_type": "code",
   "execution_count": null,
   "metadata": {},
   "outputs": [],
   "source": [
    "??torch.multinomial"
   ]
  },
  {
   "cell_type": "code",
   "execution_count": 5,
   "metadata": {},
   "outputs": [],
   "source": [
    "class WeightedRandomSampler(object):\n",
    "    r\"\"\"Samples elements from [0,..,len(weights)-1] with given probabilities (weights).\n",
    "\n",
    "    Arguments:\n",
    "        weights (list)   : a list of weights, not necessary summing up to one\n",
    "        num_samples (int): number of samples to draw\n",
    "        replacement (bool): if ``True``, samples are drawn with replacement.\n",
    "            If not, they are drawn without replacement, which means that when a\n",
    "            sample index is drawn for a row, it cannot be drawn again for that row.\n",
    "    \"\"\"\n",
    "\n",
    "    def __init__(self, weights, num_samples, replacement=False):\n",
    "        self.weights = T(weights)\n",
    "        self.num_samples = num_samples\n",
    "        self.replacement = replacement\n",
    "\n",
    "    def __iter__(self):\n",
    "        return iter(torch.multinomial(self.weights, self.num_samples, self.replacement))\n",
    "\n",
    "    def __len__(self):\n",
    "        return self.num_samples"
   ]
  },
  {
   "cell_type": "code",
   "execution_count": null,
   "metadata": {},
   "outputs": [],
   "source": [
    "wsamp = WeightedRandomSampler([0.25, 0.75], 1, replacement=False)\n",
    "\n",
    "n0 = 0\n",
    "n1 = 0\n",
    "tot = 0\n",
    "for t in range(1000):\n",
    "    for w in wsamp:\n",
    "        if w == 0:\n",
    "            n0 += 1\n",
    "        elif w == 1:\n",
    "            n1 += 1\n",
    "        tot += 1\n",
    "assert tot == n0 + n1\n",
    "print(n0/tot)\n",
    "print(n1/tot)"
   ]
  },
  {
   "cell_type": "code",
   "execution_count": 6,
   "metadata": {},
   "outputs": [],
   "source": [
    "def check_ws(ws, ds):\n",
    "    n0 = 0\n",
    "    n1 = 0\n",
    "    tot = 0\n",
    "\n",
    "    for w in tqdm(ws):\n",
    "        d = ds[w]\n",
    "        d1 = d[1]\n",
    "        if d1 == 0:\n",
    "            n0 += 1\n",
    "        elif d1 == 1:\n",
    "            n1 += 1\n",
    "        tot += 1\n",
    "    assert tot == n0 + n1\n",
    "    print(n0/tot)\n",
    "    print(n1/tot)"
   ]
  },
  {
   "cell_type": "code",
   "execution_count": 7,
   "metadata": {},
   "outputs": [],
   "source": [
    "arch=resnet34\n",
    "data = ImageClassifierData.from_paths(PATH, tfms=tfms_from_model(arch, sz), bs=16)"
   ]
  },
  {
   "cell_type": "code",
   "execution_count": null,
   "metadata": {},
   "outputs": [],
   "source": [
    "y.shape[0]"
   ]
  },
  {
   "cell_type": "code",
   "execution_count": null,
   "metadata": {},
   "outputs": [],
   "source": [
    "c0 = 0\n",
    "c1 = 0\n",
    "tot = 0\n",
    "for x, y in tqdm(data.trn_dl):\n",
    "    ys = y.shape[0]\n",
    "    num1 = torch.sum(y)\n",
    "    c0 += ys - num1\n",
    "    c1 += num1\n",
    "    tot += ys\n",
    "assert tot == c0 + c1\n",
    "print(c0 / tot)\n",
    "print(c1 / tot)"
   ]
  },
  {
   "cell_type": "code",
   "execution_count": 9,
   "metadata": {},
   "outputs": [],
   "source": [
    "ds = data.trn_dl.dataset"
   ]
  },
  {
   "cell_type": "code",
   "execution_count": 8,
   "metadata": {},
   "outputs": [],
   "source": [
    "def check_sampler(dl):\n",
    "    c0 = 0\n",
    "    c1 = 0\n",
    "    tot = 0\n",
    "    for x, y in tqdm(dl):\n",
    "        ys = y.shape[0]\n",
    "        num1 = torch.sum(y)\n",
    "        c0 += ys - num1\n",
    "        c1 += num1\n",
    "        tot += ys\n",
    "    assert tot == c0 + c1\n",
    "    print(c0 / tot)\n",
    "    print(c1 / tot)"
   ]
  },
  {
   "cell_type": "code",
   "execution_count": 10,
   "metadata": {},
   "outputs": [
    {
     "name": "stdout",
     "output_type": "stream",
     "text": [
      "100%|██████████| 1438/1438 [00:17<00:00, 81.08it/s]\n",
      "0.5\n",
      "0.5\n"
     ]
    }
   ],
   "source": [
    "check_sampler(data.trn_dl)"
   ]
  },
  {
   "cell_type": "code",
   "execution_count": null,
   "metadata": {},
   "outputs": [],
   "source": [
    "len(ds)"
   ]
  },
  {
   "cell_type": "code",
   "execution_count": 11,
   "metadata": {},
   "outputs": [
    {
     "name": "stdout",
     "output_type": "stream",
     "text": [
      "100%|██████████| 23000/23000 [01:21<00:00, 281.74it/s]\n"
     ]
    }
   ],
   "source": [
    "wl2i = []\n",
    "\n",
    "l2p = [0.25, 0.75]\n",
    "\n",
    "for ind, d in enumerate(tqdm(ds)):\n",
    "    wl2i.append(l2p[d[1]])"
   ]
  },
  {
   "cell_type": "code",
   "execution_count": 12,
   "metadata": {},
   "outputs": [],
   "source": [
    "ws2 = WeightedRandomSampler(wl2i, len(ds)//2, replacement=True)"
   ]
  },
  {
   "cell_type": "code",
   "execution_count": 13,
   "metadata": {},
   "outputs": [
    {
     "name": "stdout",
     "output_type": "stream",
     "text": [
      "100%|██████████| 11500/11500 [00:41<00:00, 275.24it/s]\n",
      "0.25121739130434784\n",
      "0.7487826086956522\n"
     ]
    }
   ],
   "source": [
    "check_ws(ws2, ds)"
   ]
  },
  {
   "cell_type": "code",
   "execution_count": null,
   "metadata": {},
   "outputs": [],
   "source": [
    "list(ws2)"
   ]
  },
  {
   "cell_type": "code",
   "execution_count": null,
   "metadata": {},
   "outputs": [],
   "source": [
    "a1 = ws2"
   ]
  },
  {
   "cell_type": "code",
   "execution_count": 14,
   "metadata": {},
   "outputs": [],
   "source": [
    "new_dl = DataLoader(ds, batch_size=16, \n",
    "                    sampler=WeightedRandomSampler(wl2i, len(ds)//2, replacement=True),\n",
    "                    num_workers=4)"
   ]
  },
  {
   "cell_type": "code",
   "execution_count": 15,
   "metadata": {},
   "outputs": [
    {
     "name": "stdout",
     "output_type": "stream",
     "text": [
      "100%|██████████| 719/719 [00:14<00:00, 50.78it/s]\n",
      "0.24695652173913044\n",
      "0.7530434782608696\n"
     ]
    }
   ],
   "source": [
    "check_sampler(new_dl)"
   ]
  },
  {
   "cell_type": "code",
   "execution_count": 16,
   "metadata": {},
   "outputs": [],
   "source": [
    "new_dl_no_replacement = DataLoader(ds, batch_size=16, \n",
    "                        sampler=WeightedRandomSampler(wl2i, len(ds)//2, replacement=False),\n",
    "                        num_workers=4)"
   ]
  },
  {
   "cell_type": "code",
   "execution_count": 17,
   "metadata": {},
   "outputs": [
    {
     "name": "stdout",
     "output_type": "stream",
     "text": [
      "100%|██████████| 719/719 [00:26<00:00, 26.75it/s]\n",
      "0.32469565217391305\n",
      "0.675304347826087\n"
     ]
    }
   ],
   "source": [
    "check_sampler(new_dl_no_replacement)"
   ]
  }
 ],
 "metadata": {
  "kernelspec": {
   "display_name": "Python 3",
   "language": "python",
   "name": "python3"
  },
  "language_info": {
   "codemirror_mode": {
    "name": "ipython",
    "version": 3
   },
   "file_extension": ".py",
   "mimetype": "text/x-python",
   "name": "python",
   "nbconvert_exporter": "python",
   "pygments_lexer": "ipython3",
   "version": "3.6.5"
  }
 },
 "nbformat": 4,
 "nbformat_minor": 2
}
